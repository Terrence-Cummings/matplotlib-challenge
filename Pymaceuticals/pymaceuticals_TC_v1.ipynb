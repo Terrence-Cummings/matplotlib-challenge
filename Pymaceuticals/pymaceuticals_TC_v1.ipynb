{
 "cells": [
  {
   "cell_type": "markdown",
   "metadata": {},
   "source": [
    "## Observations and Insights "
   ],
   "execution_count": null,
   "outputs": []
  },
  {
   "cell_type": "markdown",
   "metadata": {},
   "source": [],
   "execution_count": null,
   "outputs": []
  },
  {
   "cell_type": "code",
   "execution_count": 468,
   "metadata": {},
   "outputs": [
    {
     "output_type": "stream",
     "name": "stdout",
     "text": "Mouse ID Drug Regimen     Sex  Age_months  Weight (g)\n0       k403     Ramicane    Male          21          16\n1       s185    Capomulin  Female           3          17\n2       x401    Capomulin  Female          16          15\n3       m601    Capomulin    Male          22          17\n4       g791     Ramicane    Male          11          16\n..       ...          ...     ...         ...         ...\n244     z314     Stelasyn  Female          21          28\n245     z435     Propriva  Female          12          26\n246     z581    Infubinol  Female          24          25\n247     z795     Naftisol  Female          13          29\n248     z969     Naftisol    Male           9          30\n\n[249 rows x 5 columns]\n     Mouse ID  Timepoint  Tumor Volume (mm3)  Metastatic Sites\n0        b128          0           45.000000                 0\n1        f932          0           45.000000                 0\n2        g107          0           45.000000                 0\n3        a457          0           45.000000                 0\n4        c819          0           45.000000                 0\n...       ...        ...                 ...               ...\n1888     r944         45           41.581521                 2\n1889     u364         45           31.023923                 3\n1890     p438         45           61.433892                 1\n1891     x773         45           58.634971                 4\n1892     b879         45           72.555239                 2\n\n[1893 rows x 4 columns]\n"
    },
    {
     "output_type": "execute_result",
     "data": {
      "text/plain": "     Mouse ID  Timepoint  Tumor Volume (mm3)  Metastatic Sites Drug Regimen  \\\n0        b128          0           45.000000                 0    Capomulin   \n1        b128          5           45.651331                 0    Capomulin   \n2        b128         10           43.270852                 0    Capomulin   \n3        b128         15           43.784893                 0    Capomulin   \n4        b128         20           42.731552                 0    Capomulin   \n...       ...        ...                 ...               ...          ...   \n1888     m601         25           33.118756                 1    Capomulin   \n1889     m601         30           31.758275                 1    Capomulin   \n1890     m601         35           30.834357                 1    Capomulin   \n1891     m601         40           31.378045                 1    Capomulin   \n1892     m601         45           28.430964                 1    Capomulin   \n\n         Sex  Age_months  Weight (g)  \n0     Female           9          22  \n1     Female           9          22  \n2     Female           9          22  \n3     Female           9          22  \n4     Female           9          22  \n...      ...         ...         ...  \n1888    Male          22          17  \n1889    Male          22          17  \n1890    Male          22          17  \n1891    Male          22          17  \n1892    Male          22          17  \n\n[1893 rows x 8 columns]",
      "text/html": "<div>\n<style scoped>\n    .dataframe tbody tr th:only-of-type {\n        vertical-align: middle;\n    }\n\n    .dataframe tbody tr th {\n        vertical-align: top;\n    }\n\n    .dataframe thead th {\n        text-align: right;\n    }\n</style>\n<table border=\"1\" class=\"dataframe\">\n  <thead>\n    <tr style=\"text-align: right;\">\n      <th></th>\n      <th>Mouse ID</th>\n      <th>Timepoint</th>\n      <th>Tumor Volume (mm3)</th>\n      <th>Metastatic Sites</th>\n      <th>Drug Regimen</th>\n      <th>Sex</th>\n      <th>Age_months</th>\n      <th>Weight (g)</th>\n    </tr>\n  </thead>\n  <tbody>\n    <tr>\n      <td>0</td>\n      <td>b128</td>\n      <td>0</td>\n      <td>45.000000</td>\n      <td>0</td>\n      <td>Capomulin</td>\n      <td>Female</td>\n      <td>9</td>\n      <td>22</td>\n    </tr>\n    <tr>\n      <td>1</td>\n      <td>b128</td>\n      <td>5</td>\n      <td>45.651331</td>\n      <td>0</td>\n      <td>Capomulin</td>\n      <td>Female</td>\n      <td>9</td>\n      <td>22</td>\n    </tr>\n    <tr>\n      <td>2</td>\n      <td>b128</td>\n      <td>10</td>\n      <td>43.270852</td>\n      <td>0</td>\n      <td>Capomulin</td>\n      <td>Female</td>\n      <td>9</td>\n      <td>22</td>\n    </tr>\n    <tr>\n      <td>3</td>\n      <td>b128</td>\n      <td>15</td>\n      <td>43.784893</td>\n      <td>0</td>\n      <td>Capomulin</td>\n      <td>Female</td>\n      <td>9</td>\n      <td>22</td>\n    </tr>\n    <tr>\n      <td>4</td>\n      <td>b128</td>\n      <td>20</td>\n      <td>42.731552</td>\n      <td>0</td>\n      <td>Capomulin</td>\n      <td>Female</td>\n      <td>9</td>\n      <td>22</td>\n    </tr>\n    <tr>\n      <td>...</td>\n      <td>...</td>\n      <td>...</td>\n      <td>...</td>\n      <td>...</td>\n      <td>...</td>\n      <td>...</td>\n      <td>...</td>\n      <td>...</td>\n    </tr>\n    <tr>\n      <td>1888</td>\n      <td>m601</td>\n      <td>25</td>\n      <td>33.118756</td>\n      <td>1</td>\n      <td>Capomulin</td>\n      <td>Male</td>\n      <td>22</td>\n      <td>17</td>\n    </tr>\n    <tr>\n      <td>1889</td>\n      <td>m601</td>\n      <td>30</td>\n      <td>31.758275</td>\n      <td>1</td>\n      <td>Capomulin</td>\n      <td>Male</td>\n      <td>22</td>\n      <td>17</td>\n    </tr>\n    <tr>\n      <td>1890</td>\n      <td>m601</td>\n      <td>35</td>\n      <td>30.834357</td>\n      <td>1</td>\n      <td>Capomulin</td>\n      <td>Male</td>\n      <td>22</td>\n      <td>17</td>\n    </tr>\n    <tr>\n      <td>1891</td>\n      <td>m601</td>\n      <td>40</td>\n      <td>31.378045</td>\n      <td>1</td>\n      <td>Capomulin</td>\n      <td>Male</td>\n      <td>22</td>\n      <td>17</td>\n    </tr>\n    <tr>\n      <td>1892</td>\n      <td>m601</td>\n      <td>45</td>\n      <td>28.430964</td>\n      <td>1</td>\n      <td>Capomulin</td>\n      <td>Male</td>\n      <td>22</td>\n      <td>17</td>\n    </tr>\n  </tbody>\n</table>\n<p>1893 rows × 8 columns</p>\n</div>"
     },
     "metadata": {},
     "execution_count": 468
    }
   ],
   "source": [
    "# Dependencies and Setup\n",
    "import matplotlib.pyplot as plt\n",
    "import numpy as np\n",
    "import pandas as pd\n",
    "import scipy.stats as st\n",
    "\n",
    "# Study data files\n",
    "mouse_metadata_path = \"data/Mouse_metadata.csv\"\n",
    "study_results_path = \"data/Study_results.csv\"\n",
    "\n",
    "# Read the mouse data and the study results\n",
    "mouse_metadata = pd.read_csv(mouse_metadata_path)\n",
    "study_results = pd.read_csv(study_results_path)\n",
    "\n",
    "# Combine the data into a single dataset\n",
    "print(mouse_metadata)\n",
    "print(study_results)\n",
    "mouse_study_df = pd.merge(study_results, mouse_metadata, on=\"Mouse ID\")\n",
    "mouse_study_df"
   ]
  },
  {
   "cell_type": "code",
   "execution_count": 469,
   "metadata": {},
   "outputs": [
    {
     "output_type": "execute_result",
     "data": {
      "text/plain": "249"
     },
     "metadata": {},
     "execution_count": 469
    }
   ],
   "source": [
    "#### Checking the number of mice in the DataFrame.\n",
    "num_mice_ID = mouse_study_df['Mouse ID'].nunique()\n",
    "num_mice_ID"
   ]
  },
  {
   "cell_type": "code",
   "execution_count": 470,
   "metadata": {},
   "outputs": [
    {
     "output_type": "execute_result",
     "data": {
      "text/plain": "          duplicate_mouse\nMouse ID                 \ng989                 True",
      "text/html": "<div>\n<style scoped>\n    .dataframe tbody tr th:only-of-type {\n        vertical-align: middle;\n    }\n\n    .dataframe tbody tr th {\n        vertical-align: top;\n    }\n\n    .dataframe thead th {\n        text-align: right;\n    }\n</style>\n<table border=\"1\" class=\"dataframe\">\n  <thead>\n    <tr style=\"text-align: right;\">\n      <th></th>\n      <th>duplicate_mouse</th>\n    </tr>\n    <tr>\n      <th>Mouse ID</th>\n      <th></th>\n    </tr>\n  </thead>\n  <tbody>\n    <tr>\n      <td>g989</td>\n      <td>True</td>\n    </tr>\n  </tbody>\n</table>\n</div>"
     },
     "metadata": {},
     "execution_count": 470
    }
   ],
   "source": [
    "#### Getting the duplicate mice by ID number that shows up for Mouse ID and Timepoint. \n",
    "\n",
    "#Make a new field mouse_tp which combines Mouse_ID + Timepoint. This should be unique since the same mouse can only be observed once at a particular timepoint. If not unique, something is wrong with mouse's data so remove all records for that mouse.\n",
    "mouse_study_df['mouse_tp'] = mouse_study_df['Mouse ID'] + mouse_study_df['Timepoint'].astype(str)\n",
    "\n",
    "#Creates table of True (is a duplicate mouse_tp ID) or False (is not a duplicate mouse_tp ID)\n",
    "duplicate_mouse_tp = pd.DataFrame(mouse_study_df['mouse_tp'].value_counts()>1)\n",
    "\n",
    "#Change column name to be descriptive of what True/False indicates in this column\n",
    "duplicate_mouse_tp.rename(columns = {'mouse_tp':'duplicate_mouse'}, inplace = True)\n",
    "\n",
    "#Extract the Mouse ID from the mouse_tp and set the index to Mouse ID\n",
    "duplicate_mouse_tp['Mouse ID']= duplicate_mouse_tp.index.str[:4]\n",
    "duplicate_mouse_tp.set_index('Mouse ID', inplace=True)\n",
    "\n",
    "#Remove all the rows with duplicate ID. Result is a table of unique Mouse ID's and whether each ID is duplicated and needs to be removed (TRUE) or not duplicated and shoudl be kept (FALSE)\n",
    "index = duplicate_mouse_tp.index\n",
    "is_duplicate = index.duplicated(keep=\"first\")\n",
    "not_duplicate = ~is_duplicate\n",
    "dup_mouse_truth = duplicate_mouse_tp[not_duplicate]\n",
    "\n",
    "#Show duplicate Mouse ID's which should be removed\n",
    "dup_IDs = dup_mouse_truth.loc[dup_mouse_truth['duplicate_mouse']]\n",
    "\n",
    "dup_IDs"
   ]
  },
  {
   "cell_type": "code",
   "execution_count": 471,
   "metadata": {},
   "outputs": [
    {
     "output_type": "execute_result",
     "data": {
      "text/plain": "    Mouse ID  Timepoint  Tumor Volume (mm3)  Metastatic Sites Drug Regimen  \\\n860     g989          0           45.000000                 0     Propriva   \n861     g989          0           45.000000                 0     Propriva   \n862     g989          5           48.786801                 0     Propriva   \n863     g989          5           47.570392                 0     Propriva   \n864     g989         10           51.745156                 0     Propriva   \n865     g989         10           49.880528                 0     Propriva   \n866     g989         15           51.325852                 1     Propriva   \n867     g989         15           53.442020                 0     Propriva   \n868     g989         20           55.326122                 1     Propriva   \n869     g989         20           54.657650                 1     Propriva   \n870     g989         25           56.045564                 1     Propriva   \n871     g989         30           59.082294                 1     Propriva   \n872     g989         35           62.570880                 2     Propriva   \n\n        Sex  Age_months  Weight (g) mouse_tp  duplicate_mouse  \n860  Female          21          26    g9890             True  \n861  Female          21          26    g9890             True  \n862  Female          21          26    g9895             True  \n863  Female          21          26    g9895             True  \n864  Female          21          26   g98910             True  \n865  Female          21          26   g98910             True  \n866  Female          21          26   g98915             True  \n867  Female          21          26   g98915             True  \n868  Female          21          26   g98920             True  \n869  Female          21          26   g98920             True  \n870  Female          21          26   g98925             True  \n871  Female          21          26   g98930             True  \n872  Female          21          26   g98935             True  ",
      "text/html": "<div>\n<style scoped>\n    .dataframe tbody tr th:only-of-type {\n        vertical-align: middle;\n    }\n\n    .dataframe tbody tr th {\n        vertical-align: top;\n    }\n\n    .dataframe thead th {\n        text-align: right;\n    }\n</style>\n<table border=\"1\" class=\"dataframe\">\n  <thead>\n    <tr style=\"text-align: right;\">\n      <th></th>\n      <th>Mouse ID</th>\n      <th>Timepoint</th>\n      <th>Tumor Volume (mm3)</th>\n      <th>Metastatic Sites</th>\n      <th>Drug Regimen</th>\n      <th>Sex</th>\n      <th>Age_months</th>\n      <th>Weight (g)</th>\n      <th>mouse_tp</th>\n      <th>duplicate_mouse</th>\n    </tr>\n  </thead>\n  <tbody>\n    <tr>\n      <td>860</td>\n      <td>g989</td>\n      <td>0</td>\n      <td>45.000000</td>\n      <td>0</td>\n      <td>Propriva</td>\n      <td>Female</td>\n      <td>21</td>\n      <td>26</td>\n      <td>g9890</td>\n      <td>True</td>\n    </tr>\n    <tr>\n      <td>861</td>\n      <td>g989</td>\n      <td>0</td>\n      <td>45.000000</td>\n      <td>0</td>\n      <td>Propriva</td>\n      <td>Female</td>\n      <td>21</td>\n      <td>26</td>\n      <td>g9890</td>\n      <td>True</td>\n    </tr>\n    <tr>\n      <td>862</td>\n      <td>g989</td>\n      <td>5</td>\n      <td>48.786801</td>\n      <td>0</td>\n      <td>Propriva</td>\n      <td>Female</td>\n      <td>21</td>\n      <td>26</td>\n      <td>g9895</td>\n      <td>True</td>\n    </tr>\n    <tr>\n      <td>863</td>\n      <td>g989</td>\n      <td>5</td>\n      <td>47.570392</td>\n      <td>0</td>\n      <td>Propriva</td>\n      <td>Female</td>\n      <td>21</td>\n      <td>26</td>\n      <td>g9895</td>\n      <td>True</td>\n    </tr>\n    <tr>\n      <td>864</td>\n      <td>g989</td>\n      <td>10</td>\n      <td>51.745156</td>\n      <td>0</td>\n      <td>Propriva</td>\n      <td>Female</td>\n      <td>21</td>\n      <td>26</td>\n      <td>g98910</td>\n      <td>True</td>\n    </tr>\n    <tr>\n      <td>865</td>\n      <td>g989</td>\n      <td>10</td>\n      <td>49.880528</td>\n      <td>0</td>\n      <td>Propriva</td>\n      <td>Female</td>\n      <td>21</td>\n      <td>26</td>\n      <td>g98910</td>\n      <td>True</td>\n    </tr>\n    <tr>\n      <td>866</td>\n      <td>g989</td>\n      <td>15</td>\n      <td>51.325852</td>\n      <td>1</td>\n      <td>Propriva</td>\n      <td>Female</td>\n      <td>21</td>\n      <td>26</td>\n      <td>g98915</td>\n      <td>True</td>\n    </tr>\n    <tr>\n      <td>867</td>\n      <td>g989</td>\n      <td>15</td>\n      <td>53.442020</td>\n      <td>0</td>\n      <td>Propriva</td>\n      <td>Female</td>\n      <td>21</td>\n      <td>26</td>\n      <td>g98915</td>\n      <td>True</td>\n    </tr>\n    <tr>\n      <td>868</td>\n      <td>g989</td>\n      <td>20</td>\n      <td>55.326122</td>\n      <td>1</td>\n      <td>Propriva</td>\n      <td>Female</td>\n      <td>21</td>\n      <td>26</td>\n      <td>g98920</td>\n      <td>True</td>\n    </tr>\n    <tr>\n      <td>869</td>\n      <td>g989</td>\n      <td>20</td>\n      <td>54.657650</td>\n      <td>1</td>\n      <td>Propriva</td>\n      <td>Female</td>\n      <td>21</td>\n      <td>26</td>\n      <td>g98920</td>\n      <td>True</td>\n    </tr>\n    <tr>\n      <td>870</td>\n      <td>g989</td>\n      <td>25</td>\n      <td>56.045564</td>\n      <td>1</td>\n      <td>Propriva</td>\n      <td>Female</td>\n      <td>21</td>\n      <td>26</td>\n      <td>g98925</td>\n      <td>True</td>\n    </tr>\n    <tr>\n      <td>871</td>\n      <td>g989</td>\n      <td>30</td>\n      <td>59.082294</td>\n      <td>1</td>\n      <td>Propriva</td>\n      <td>Female</td>\n      <td>21</td>\n      <td>26</td>\n      <td>g98930</td>\n      <td>True</td>\n    </tr>\n    <tr>\n      <td>872</td>\n      <td>g989</td>\n      <td>35</td>\n      <td>62.570880</td>\n      <td>2</td>\n      <td>Propriva</td>\n      <td>Female</td>\n      <td>21</td>\n      <td>26</td>\n      <td>g98935</td>\n      <td>True</td>\n    </tr>\n  </tbody>\n</table>\n</div>"
     },
     "metadata": {},
     "execution_count": 471
    }
   ],
   "source": [
    "#### Optional: Get all the data for the duplicate mouse ID. \n",
    "\n",
    "#Add duplicate column (TRUE) to full mouse study database\n",
    "mouse_study_dup_flag_df = pd.merge(mouse_study_df, dup_mouse_truth, on='Mouse ID')\n",
    "\n",
    "#Show records for duplicate Mouse ID's\n",
    "dup_mice_df = mouse_study_dup_flag_df.loc[mouse_study_dup_flag_df['duplicate_mouse']]\n",
    "dup_mice_df"
   ]
  },
  {
   "cell_type": "code",
   "execution_count": 472,
   "metadata": {},
   "outputs": [
    {
     "output_type": "execute_result",
     "data": {
      "text/plain": "     Mouse ID  Timepoint  Tumor Volume (mm3)  Metastatic Sites Drug Regimen  \\\n0        b128          0           45.000000                 0    Capomulin   \n1        b128          5           45.651331                 0    Capomulin   \n2        b128         10           43.270852                 0    Capomulin   \n3        b128         15           43.784893                 0    Capomulin   \n4        b128         20           42.731552                 0    Capomulin   \n...       ...        ...                 ...               ...          ...   \n1888     m601         25           33.118756                 1    Capomulin   \n1889     m601         30           31.758275                 1    Capomulin   \n1890     m601         35           30.834357                 1    Capomulin   \n1891     m601         40           31.378045                 1    Capomulin   \n1892     m601         45           28.430964                 1    Capomulin   \n\n         Sex  Age_months  Weight (g)  \n0     Female           9          22  \n1     Female           9          22  \n2     Female           9          22  \n3     Female           9          22  \n4     Female           9          22  \n...      ...         ...         ...  \n1888    Male          22          17  \n1889    Male          22          17  \n1890    Male          22          17  \n1891    Male          22          17  \n1892    Male          22          17  \n\n[1880 rows x 8 columns]",
      "text/html": "<div>\n<style scoped>\n    .dataframe tbody tr th:only-of-type {\n        vertical-align: middle;\n    }\n\n    .dataframe tbody tr th {\n        vertical-align: top;\n    }\n\n    .dataframe thead th {\n        text-align: right;\n    }\n</style>\n<table border=\"1\" class=\"dataframe\">\n  <thead>\n    <tr style=\"text-align: right;\">\n      <th></th>\n      <th>Mouse ID</th>\n      <th>Timepoint</th>\n      <th>Tumor Volume (mm3)</th>\n      <th>Metastatic Sites</th>\n      <th>Drug Regimen</th>\n      <th>Sex</th>\n      <th>Age_months</th>\n      <th>Weight (g)</th>\n    </tr>\n  </thead>\n  <tbody>\n    <tr>\n      <td>0</td>\n      <td>b128</td>\n      <td>0</td>\n      <td>45.000000</td>\n      <td>0</td>\n      <td>Capomulin</td>\n      <td>Female</td>\n      <td>9</td>\n      <td>22</td>\n    </tr>\n    <tr>\n      <td>1</td>\n      <td>b128</td>\n      <td>5</td>\n      <td>45.651331</td>\n      <td>0</td>\n      <td>Capomulin</td>\n      <td>Female</td>\n      <td>9</td>\n      <td>22</td>\n    </tr>\n    <tr>\n      <td>2</td>\n      <td>b128</td>\n      <td>10</td>\n      <td>43.270852</td>\n      <td>0</td>\n      <td>Capomulin</td>\n      <td>Female</td>\n      <td>9</td>\n      <td>22</td>\n    </tr>\n    <tr>\n      <td>3</td>\n      <td>b128</td>\n      <td>15</td>\n      <td>43.784893</td>\n      <td>0</td>\n      <td>Capomulin</td>\n      <td>Female</td>\n      <td>9</td>\n      <td>22</td>\n    </tr>\n    <tr>\n      <td>4</td>\n      <td>b128</td>\n      <td>20</td>\n      <td>42.731552</td>\n      <td>0</td>\n      <td>Capomulin</td>\n      <td>Female</td>\n      <td>9</td>\n      <td>22</td>\n    </tr>\n    <tr>\n      <td>...</td>\n      <td>...</td>\n      <td>...</td>\n      <td>...</td>\n      <td>...</td>\n      <td>...</td>\n      <td>...</td>\n      <td>...</td>\n      <td>...</td>\n    </tr>\n    <tr>\n      <td>1888</td>\n      <td>m601</td>\n      <td>25</td>\n      <td>33.118756</td>\n      <td>1</td>\n      <td>Capomulin</td>\n      <td>Male</td>\n      <td>22</td>\n      <td>17</td>\n    </tr>\n    <tr>\n      <td>1889</td>\n      <td>m601</td>\n      <td>30</td>\n      <td>31.758275</td>\n      <td>1</td>\n      <td>Capomulin</td>\n      <td>Male</td>\n      <td>22</td>\n      <td>17</td>\n    </tr>\n    <tr>\n      <td>1890</td>\n      <td>m601</td>\n      <td>35</td>\n      <td>30.834357</td>\n      <td>1</td>\n      <td>Capomulin</td>\n      <td>Male</td>\n      <td>22</td>\n      <td>17</td>\n    </tr>\n    <tr>\n      <td>1891</td>\n      <td>m601</td>\n      <td>40</td>\n      <td>31.378045</td>\n      <td>1</td>\n      <td>Capomulin</td>\n      <td>Male</td>\n      <td>22</td>\n      <td>17</td>\n    </tr>\n    <tr>\n      <td>1892</td>\n      <td>m601</td>\n      <td>45</td>\n      <td>28.430964</td>\n      <td>1</td>\n      <td>Capomulin</td>\n      <td>Male</td>\n      <td>22</td>\n      <td>17</td>\n    </tr>\n  </tbody>\n</table>\n<p>1880 rows × 8 columns</p>\n</div>"
     },
     "metadata": {},
     "execution_count": 472
    }
   ],
   "source": [
    "#### Create a clean DataFrame by dropping the duplicate mouse by its ID.\n",
    "\n",
    "#Make new mouse study df with duplicate mouse ID's removed. Clean up by deleting the working columns added during these steps.\n",
    "no_dups_mouse_study_df = mouse_study_dup_flag_df.loc[mouse_study_dup_flag_df['duplicate_mouse']==False]\n",
    "no_dups_mouse_study_df.drop(['mouse_tp', 'duplicate_mouse'], axis=1, inplace=True)\n",
    "\n",
    "no_dups_mouse_study_df"
   ]
  },
  {
   "cell_type": "code",
   "execution_count": 485,
   "metadata": {},
   "outputs": [
    {
     "output_type": "execute_result",
     "data": {
      "text/plain": "248"
     },
     "metadata": {},
     "execution_count": 485
    }
   ],
   "source": [
    "#### Checking the number of mice in the clean DataFrame.\n",
    "no_dup_num_mice_ID = no_dups_mouse_study_df['Mouse ID'].nunique()\n",
    "no_dup_num_mice_ID"
   ]
  },
  {
   "cell_type": "markdown",
   "metadata": {},
   "source": [
    "## Summary Statistics"
   ],
   "execution_count": null,
   "outputs": []
  },
  {
   "cell_type": "code",
   "execution_count": 474,
   "metadata": {},
   "outputs": [],
   "source": [
    "#### Generate a summary statistics table of mean, median, variance, standard deviation, and SEM of the tumor volume for each regimen\n",
    "\n",
    "#### This method is the most straighforward, creating multiple series and putting them all together at the end."
   ]
  },
  {
   "cell_type": "code",
   "execution_count": 475,
   "metadata": {
    "scrolled": true
   },
   "outputs": [],
   "source": [
    "#### Generate a summary statistics table of mean, median, variance, standard deviation, and SEM of the tumor volume for each regimen"
   ]
  },
  {
   "cell_type": "markdown",
   "metadata": {},
   "source": [
    "## Bar Plots"
   ],
   "execution_count": null,
   "outputs": []
  },
  {
   "cell_type": "code",
   "execution_count": 476,
   "metadata": {},
   "outputs": [],
   "source": [
    "#### Generate a bar plot showing the number of mice per time point for each treatment throughout the course of the study using pandas. "
   ]
  },
  {
   "cell_type": "code",
   "execution_count": 477,
   "metadata": {},
   "outputs": [],
   "source": [
    "#### Generate a bar plot showing the number of mice per time point for each treatment throughout the course of the study using pyplot."
   ]
  },
  {
   "cell_type": "markdown",
   "metadata": {},
   "source": [
    "## Pie Plots"
   ],
   "execution_count": null,
   "outputs": []
  },
  {
   "cell_type": "code",
   "execution_count": 478,
   "metadata": {},
   "outputs": [],
   "source": [
    "#### Generate a pie plot showing the distribution of female versus male mice using pandas"
   ]
  },
  {
   "cell_type": "code",
   "execution_count": 479,
   "metadata": {},
   "outputs": [],
   "source": [
    "####Generate a pie plot showing the distribution of female versus male mice using pyplot"
   ]
  },
  {
   "cell_type": "markdown",
   "metadata": {},
   "source": [
    "## Quartiles, Outliers and Boxplots"
   ],
   "execution_count": null,
   "outputs": []
  },
  {
   "cell_type": "code",
   "execution_count": 480,
   "metadata": {},
   "outputs": [],
   "source": [
    "#### Calculate the final tumor volume of each mouse across four of the most promising treatment regimens. Calculate the IQR and quantitatively determine if there are any potential outliers. \n",
    ""
   ]
  },
  {
   "cell_type": "code",
   "execution_count": 481,
   "metadata": {},
   "outputs": [],
   "source": [
    "#### Generate a box plot of the final tumor volume of each mouse across four regimens of interest"
   ]
  },
  {
   "cell_type": "markdown",
   "metadata": {},
   "source": [
    "## Line and Scatter Plots"
   ],
   "execution_count": null,
   "outputs": []
  },
  {
   "cell_type": "code",
   "execution_count": 482,
   "metadata": {},
   "outputs": [],
   "source": [
    "#### Generate a line plot of time point versus tumor volume for a mouse treated with Capomulin\n",
    ""
   ]
  },
  {
   "cell_type": "code",
   "execution_count": 483,
   "metadata": {},
   "outputs": [],
   "source": [
    "#### Generate a scatter plot of mouse weight versus average tumor volume for the Capomulin regimen\n",
    "\n",
    ""
   ]
  },
  {
   "cell_type": "markdown",
   "metadata": {},
   "source": [
    "## Correlation and Regression"
   ],
   "execution_count": null,
   "outputs": []
  },
  {
   "cell_type": "code",
   "execution_count": 484,
   "metadata": {},
   "outputs": [],
   "source": [
    "#### Calculate the correlation coefficient and linear regression model \n",
    "#### for mouse weight and average tumor volume for the Capomulin regimen\n",
    ""
   ]
  },
  {
   "cell_type": "code",
   "execution_count": null,
   "metadata": {},
   "outputs": [],
   "source": []
  }
 ],
 "metadata": {
  "anaconda-cloud": {},
  "kernelspec": {
   "display_name": "Python 3",
   "language": "python",
   "name": "python3"
  },
  "language_info": {
   "codemirror_mode": {
    "name": "ipython",
    "version": 3
   },
   "file_extension": ".py",
   "mimetype": "text/x-python",
   "name": "python",
   "nbconvert_exporter": "python",
   "pygments_lexer": "ipython3",
   "version": "3.6.10-final"
  }
 },
 "nbformat": 4,
 "nbformat_minor": 2
}